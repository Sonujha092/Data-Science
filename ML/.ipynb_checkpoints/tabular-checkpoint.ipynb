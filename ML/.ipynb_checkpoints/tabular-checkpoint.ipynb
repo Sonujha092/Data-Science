{
 "cells": [
  {
   "cell_type": "code",
   "execution_count": 1,
   "metadata": {
    "_cell_guid": "b1076dfc-b9ad-4769-8c92-a6c4dae69d19",
    "_uuid": "8f2839f25d086af736a60e9eeb907d3b93b6e0e5",
    "execution": {
     "iopub.execute_input": "2020-10-15T08:25:27.333402Z",
     "iopub.status.busy": "2020-10-15T08:25:27.332558Z",
     "iopub.status.idle": "2020-10-15T08:25:27.364991Z",
     "shell.execute_reply": "2020-10-15T08:25:27.364284Z"
    },
    "papermill": {
     "duration": 0.061098,
     "end_time": "2020-10-15T08:25:27.365146",
     "exception": false,
     "start_time": "2020-10-15T08:25:27.304048",
     "status": "completed"
    },
    "tags": []
   },
   "outputs": [],
   "source": [
    "%reload_ext autoreload\n",
    "%autoreload 2\n",
    "%matplotlib inline"
   ]
  },
  {
   "cell_type": "code",
   "execution_count": 2,
   "metadata": {
    "_cell_guid": "79c7e3d0-c299-4dcb-8224-4455121ee9b0",
    "_uuid": "d629ff2d2480ee46fbb7e2d37f6b5fab8052498a",
    "execution": {
     "iopub.execute_input": "2020-10-15T08:25:27.410459Z",
     "iopub.status.busy": "2020-10-15T08:25:27.409432Z",
     "iopub.status.idle": "2020-10-15T08:25:27.436484Z",
     "shell.execute_reply": "2020-10-15T08:25:27.435785Z"
    },
    "papermill": {
     "duration": 0.052273,
     "end_time": "2020-10-15T08:25:27.436636",
     "exception": false,
     "start_time": "2020-10-15T08:25:27.384363",
     "status": "completed"
    },
    "tags": []
   },
   "outputs": [],
   "source": [
    "# !pip install torch==1.6.0+cu101 torchvision==0.7.0+cu101 -f https://download.pytorch.org/whl/torch_stable.html -q\n",
    "# !pip install --upgrade kornia -q\n",
    "# !pip install allennlp==1.1.0.rc4 -q\n",
    "# !pip install --upgrade fastai -q"
   ]
  },
  {
   "cell_type": "code",
   "execution_count": 3,
   "metadata": {
    "execution": {
     "iopub.execute_input": "2020-10-15T08:25:27.481102Z",
     "iopub.status.busy": "2020-10-15T08:25:27.480260Z",
     "iopub.status.idle": "2020-10-15T08:25:30.098140Z",
     "shell.execute_reply": "2020-10-15T08:25:30.098713Z"
    },
    "papermill": {
     "duration": 2.642513,
     "end_time": "2020-10-15T08:25:30.098958",
     "exception": false,
     "start_time": "2020-10-15T08:25:27.456445",
     "status": "completed"
    },
    "tags": []
   },
   "outputs": [],
   "source": [
    "from fastai.tabular.all import *"
   ]
  },
  {
   "cell_type": "code",
   "execution_count": 4,
   "metadata": {
    "execution": {
     "iopub.execute_input": "2020-10-15T08:25:30.143177Z",
     "iopub.status.busy": "2020-10-15T08:25:30.142286Z",
     "iopub.status.idle": "2020-10-15T08:25:30.185137Z",
     "shell.execute_reply": "2020-10-15T08:25:30.184478Z"
    },
    "papermill": {
     "duration": 0.067107,
     "end_time": "2020-10-15T08:25:30.185264",
     "exception": false,
     "start_time": "2020-10-15T08:25:30.118157",
     "status": "completed"
    },
    "tags": []
   },
   "outputs": [
    {
     "data": {
      "text/plain": [
       "(#5) [Path('test_features.csv'),Path('sample_submission.csv'),Path('train_features.csv'),Path('train_targets_scored.csv'),Path('train_targets_nonscored.csv')]"
      ]
     },
     "execution_count": 4,
     "metadata": {},
     "output_type": "execute_result"
    }
   ],
   "source": [
    "path = Path('../input/lish-moa')\n",
    "Path.BASE_PATH = path\n",
    "path.ls()"
   ]
  },
  {
   "cell_type": "code",
   "execution_count": 5,
   "metadata": {
    "execution": {
     "iopub.execute_input": "2020-10-15T08:25:30.230992Z",
     "iopub.status.busy": "2020-10-15T08:25:30.230145Z",
     "iopub.status.idle": "2020-10-15T08:25:36.727331Z",
     "shell.execute_reply": "2020-10-15T08:25:36.726611Z"
    },
    "papermill": {
     "duration": 6.522208,
     "end_time": "2020-10-15T08:25:36.727496",
     "exception": false,
     "start_time": "2020-10-15T08:25:30.205288",
     "status": "completed"
    },
    "tags": []
   },
   "outputs": [],
   "source": [
    "train_x = pd.read_csv(path/'train_features.csv')\n",
    "test_x = pd.read_csv(path/'test_features.csv')\n",
    "train_y = pd.read_csv(path/'train_targets_scored.csv')"
   ]
  },
  {
   "cell_type": "code",
   "execution_count": 6,
   "metadata": {
    "execution": {
     "iopub.execute_input": "2020-10-15T08:25:36.773634Z",
     "iopub.status.busy": "2020-10-15T08:25:36.772823Z",
     "iopub.status.idle": "2020-10-15T08:25:36.978918Z",
     "shell.execute_reply": "2020-10-15T08:25:36.978127Z"
    },
    "papermill": {
     "duration": 0.231062,
     "end_time": "2020-10-15T08:25:36.979057",
     "exception": false,
     "start_time": "2020-10-15T08:25:36.747995",
     "status": "completed"
    },
    "tags": []
   },
   "outputs": [
    {
     "data": {
      "text/html": [
       "<div>\n",
       "<style scoped>\n",
       "    .dataframe tbody tr th:only-of-type {\n",
       "        vertical-align: middle;\n",
       "    }\n",
       "\n",
       "    .dataframe tbody tr th {\n",
       "        vertical-align: top;\n",
       "    }\n",
       "\n",
       "    .dataframe thead th {\n",
       "        text-align: right;\n",
       "    }\n",
       "</style>\n",
       "<table border=\"1\" class=\"dataframe\">\n",
       "  <thead>\n",
       "    <tr style=\"text-align: right;\">\n",
       "      <th></th>\n",
       "      <th>sig_id</th>\n",
       "      <th>5-alpha_reductase_inhibitor</th>\n",
       "      <th>11-beta-hsd1_inhibitor</th>\n",
       "      <th>acat_inhibitor</th>\n",
       "      <th>acetylcholine_receptor_agonist</th>\n",
       "      <th>acetylcholine_receptor_antagonist</th>\n",
       "      <th>acetylcholinesterase_inhibitor</th>\n",
       "      <th>adenosine_receptor_agonist</th>\n",
       "      <th>adenosine_receptor_antagonist</th>\n",
       "      <th>adenylyl_cyclase_activator</th>\n",
       "      <th>...</th>\n",
       "      <th>tropomyosin_receptor_kinase_inhibitor</th>\n",
       "      <th>trpv_agonist</th>\n",
       "      <th>trpv_antagonist</th>\n",
       "      <th>tubulin_inhibitor</th>\n",
       "      <th>tyrosine_kinase_inhibitor</th>\n",
       "      <th>ubiquitin_specific_protease_inhibitor</th>\n",
       "      <th>vegfr_inhibitor</th>\n",
       "      <th>vitamin_b</th>\n",
       "      <th>vitamin_d_receptor_agonist</th>\n",
       "      <th>wnt_inhibitor</th>\n",
       "    </tr>\n",
       "  </thead>\n",
       "  <tbody>\n",
       "    <tr>\n",
       "      <th>0</th>\n",
       "      <td>id_0004d9e33</td>\n",
       "      <td>0.5</td>\n",
       "      <td>0.5</td>\n",
       "      <td>0.5</td>\n",
       "      <td>0.5</td>\n",
       "      <td>0.5</td>\n",
       "      <td>0.5</td>\n",
       "      <td>0.5</td>\n",
       "      <td>0.5</td>\n",
       "      <td>0.5</td>\n",
       "      <td>...</td>\n",
       "      <td>0.5</td>\n",
       "      <td>0.5</td>\n",
       "      <td>0.5</td>\n",
       "      <td>0.5</td>\n",
       "      <td>0.5</td>\n",
       "      <td>0.5</td>\n",
       "      <td>0.5</td>\n",
       "      <td>0.5</td>\n",
       "      <td>0.5</td>\n",
       "      <td>0.5</td>\n",
       "    </tr>\n",
       "    <tr>\n",
       "      <th>1</th>\n",
       "      <td>id_001897cda</td>\n",
       "      <td>0.5</td>\n",
       "      <td>0.5</td>\n",
       "      <td>0.5</td>\n",
       "      <td>0.5</td>\n",
       "      <td>0.5</td>\n",
       "      <td>0.5</td>\n",
       "      <td>0.5</td>\n",
       "      <td>0.5</td>\n",
       "      <td>0.5</td>\n",
       "      <td>...</td>\n",
       "      <td>0.5</td>\n",
       "      <td>0.5</td>\n",
       "      <td>0.5</td>\n",
       "      <td>0.5</td>\n",
       "      <td>0.5</td>\n",
       "      <td>0.5</td>\n",
       "      <td>0.5</td>\n",
       "      <td>0.5</td>\n",
       "      <td>0.5</td>\n",
       "      <td>0.5</td>\n",
       "    </tr>\n",
       "    <tr>\n",
       "      <th>2</th>\n",
       "      <td>id_002429b5b</td>\n",
       "      <td>0.5</td>\n",
       "      <td>0.5</td>\n",
       "      <td>0.5</td>\n",
       "      <td>0.5</td>\n",
       "      <td>0.5</td>\n",
       "      <td>0.5</td>\n",
       "      <td>0.5</td>\n",
       "      <td>0.5</td>\n",
       "      <td>0.5</td>\n",
       "      <td>...</td>\n",
       "      <td>0.5</td>\n",
       "      <td>0.5</td>\n",
       "      <td>0.5</td>\n",
       "      <td>0.5</td>\n",
       "      <td>0.5</td>\n",
       "      <td>0.5</td>\n",
       "      <td>0.5</td>\n",
       "      <td>0.5</td>\n",
       "      <td>0.5</td>\n",
       "      <td>0.5</td>\n",
       "    </tr>\n",
       "    <tr>\n",
       "      <th>3</th>\n",
       "      <td>id_00276f245</td>\n",
       "      <td>0.5</td>\n",
       "      <td>0.5</td>\n",
       "      <td>0.5</td>\n",
       "      <td>0.5</td>\n",
       "      <td>0.5</td>\n",
       "      <td>0.5</td>\n",
       "      <td>0.5</td>\n",
       "      <td>0.5</td>\n",
       "      <td>0.5</td>\n",
       "      <td>...</td>\n",
       "      <td>0.5</td>\n",
       "      <td>0.5</td>\n",
       "      <td>0.5</td>\n",
       "      <td>0.5</td>\n",
       "      <td>0.5</td>\n",
       "      <td>0.5</td>\n",
       "      <td>0.5</td>\n",
       "      <td>0.5</td>\n",
       "      <td>0.5</td>\n",
       "      <td>0.5</td>\n",
       "    </tr>\n",
       "    <tr>\n",
       "      <th>4</th>\n",
       "      <td>id_0027f1083</td>\n",
       "      <td>0.5</td>\n",
       "      <td>0.5</td>\n",
       "      <td>0.5</td>\n",
       "      <td>0.5</td>\n",
       "      <td>0.5</td>\n",
       "      <td>0.5</td>\n",
       "      <td>0.5</td>\n",
       "      <td>0.5</td>\n",
       "      <td>0.5</td>\n",
       "      <td>...</td>\n",
       "      <td>0.5</td>\n",
       "      <td>0.5</td>\n",
       "      <td>0.5</td>\n",
       "      <td>0.5</td>\n",
       "      <td>0.5</td>\n",
       "      <td>0.5</td>\n",
       "      <td>0.5</td>\n",
       "      <td>0.5</td>\n",
       "      <td>0.5</td>\n",
       "      <td>0.5</td>\n",
       "    </tr>\n",
       "  </tbody>\n",
       "</table>\n",
       "<p>5 rows × 207 columns</p>\n",
       "</div>"
      ],
      "text/plain": [
       "         sig_id  5-alpha_reductase_inhibitor  11-beta-hsd1_inhibitor  \\\n",
       "0  id_0004d9e33                          0.5                     0.5   \n",
       "1  id_001897cda                          0.5                     0.5   \n",
       "2  id_002429b5b                          0.5                     0.5   \n",
       "3  id_00276f245                          0.5                     0.5   \n",
       "4  id_0027f1083                          0.5                     0.5   \n",
       "\n",
       "   acat_inhibitor  acetylcholine_receptor_agonist  \\\n",
       "0             0.5                             0.5   \n",
       "1             0.5                             0.5   \n",
       "2             0.5                             0.5   \n",
       "3             0.5                             0.5   \n",
       "4             0.5                             0.5   \n",
       "\n",
       "   acetylcholine_receptor_antagonist  acetylcholinesterase_inhibitor  \\\n",
       "0                                0.5                             0.5   \n",
       "1                                0.5                             0.5   \n",
       "2                                0.5                             0.5   \n",
       "3                                0.5                             0.5   \n",
       "4                                0.5                             0.5   \n",
       "\n",
       "   adenosine_receptor_agonist  adenosine_receptor_antagonist  \\\n",
       "0                         0.5                            0.5   \n",
       "1                         0.5                            0.5   \n",
       "2                         0.5                            0.5   \n",
       "3                         0.5                            0.5   \n",
       "4                         0.5                            0.5   \n",
       "\n",
       "   adenylyl_cyclase_activator  ...  tropomyosin_receptor_kinase_inhibitor  \\\n",
       "0                         0.5  ...                                    0.5   \n",
       "1                         0.5  ...                                    0.5   \n",
       "2                         0.5  ...                                    0.5   \n",
       "3                         0.5  ...                                    0.5   \n",
       "4                         0.5  ...                                    0.5   \n",
       "\n",
       "   trpv_agonist  trpv_antagonist  tubulin_inhibitor  \\\n",
       "0           0.5              0.5                0.5   \n",
       "1           0.5              0.5                0.5   \n",
       "2           0.5              0.5                0.5   \n",
       "3           0.5              0.5                0.5   \n",
       "4           0.5              0.5                0.5   \n",
       "\n",
       "   tyrosine_kinase_inhibitor  ubiquitin_specific_protease_inhibitor  \\\n",
       "0                        0.5                                    0.5   \n",
       "1                        0.5                                    0.5   \n",
       "2                        0.5                                    0.5   \n",
       "3                        0.5                                    0.5   \n",
       "4                        0.5                                    0.5   \n",
       "\n",
       "   vegfr_inhibitor  vitamin_b  vitamin_d_receptor_agonist  wnt_inhibitor  \n",
       "0              0.5        0.5                         0.5            0.5  \n",
       "1              0.5        0.5                         0.5            0.5  \n",
       "2              0.5        0.5                         0.5            0.5  \n",
       "3              0.5        0.5                         0.5            0.5  \n",
       "4              0.5        0.5                         0.5            0.5  \n",
       "\n",
       "[5 rows x 207 columns]"
      ]
     },
     "execution_count": 6,
     "metadata": {},
     "output_type": "execute_result"
    }
   ],
   "source": [
    "submission = pd.read_csv(path/'sample_submission.csv')\n",
    "submission.head()"
   ]
  },
  {
   "cell_type": "code",
   "execution_count": 7,
   "metadata": {
    "execution": {
     "iopub.execute_input": "2020-10-15T08:25:37.028495Z",
     "iopub.status.busy": "2020-10-15T08:25:37.027400Z",
     "iopub.status.idle": "2020-10-15T08:25:37.065699Z",
     "shell.execute_reply": "2020-10-15T08:25:37.065078Z"
    },
    "papermill": {
     "duration": 0.065266,
     "end_time": "2020-10-15T08:25:37.065834",
     "exception": false,
     "start_time": "2020-10-15T08:25:37.000568",
     "status": "completed"
    },
    "tags": []
   },
   "outputs": [],
   "source": [
    "cat_names = ['cp_type', 'cp_time', 'cp_dose']\n",
    "cont_names = [c for c in train_x.columns if c not in cat_names and c != 'sig_id']\n",
    "y_names = [c for c in train_y.columns if  c != 'sig_id']"
   ]
  },
  {
   "cell_type": "code",
   "execution_count": 8,
   "metadata": {
    "execution": {
     "iopub.execute_input": "2020-10-15T08:25:37.114835Z",
     "iopub.status.busy": "2020-10-15T08:25:37.113738Z",
     "iopub.status.idle": "2020-10-15T08:25:37.280975Z",
     "shell.execute_reply": "2020-10-15T08:25:37.280279Z"
    },
    "papermill": {
     "duration": 0.194014,
     "end_time": "2020-10-15T08:25:37.281116",
     "exception": false,
     "start_time": "2020-10-15T08:25:37.087102",
     "status": "completed"
    },
    "tags": []
   },
   "outputs": [],
   "source": [
    "train = pd.concat([train_x, train_y], axis=1)"
   ]
  },
  {
   "cell_type": "code",
   "execution_count": 9,
   "metadata": {
    "execution": {
     "iopub.execute_input": "2020-10-15T08:25:37.330596Z",
     "iopub.status.busy": "2020-10-15T08:25:37.329750Z",
     "iopub.status.idle": "2020-10-15T08:26:44.230549Z",
     "shell.execute_reply": "2020-10-15T08:26:44.229736Z"
    },
    "papermill": {
     "duration": 66.928096,
     "end_time": "2020-10-15T08:26:44.230678",
     "exception": false,
     "start_time": "2020-10-15T08:25:37.302582",
     "status": "completed"
    },
    "tags": []
   },
   "outputs": [],
   "source": [
    "splits = RandomSplitter(0.2)(range_of(train))\n",
    "procs = [Categorify, Normalize]\n",
    "to = TabularPandas(train, procs=procs, cont_names=cont_names, cat_names=cat_names, splits=splits, y_names=y_names)"
   ]
  },
  {
   "cell_type": "code",
   "execution_count": 10,
   "metadata": {
    "execution": {
     "iopub.execute_input": "2020-10-15T08:26:44.279464Z",
     "iopub.status.busy": "2020-10-15T08:26:44.278527Z",
     "iopub.status.idle": "2020-10-15T08:26:44.477172Z",
     "shell.execute_reply": "2020-10-15T08:26:44.476339Z"
    },
    "papermill": {
     "duration": 0.225093,
     "end_time": "2020-10-15T08:26:44.477313",
     "exception": false,
     "start_time": "2020-10-15T08:26:44.252220",
     "status": "completed"
    },
    "tags": []
   },
   "outputs": [],
   "source": [
    "dls = to.dataloaders(bs=4096)"
   ]
  },
  {
   "cell_type": "code",
   "execution_count": 11,
   "metadata": {
    "execution": {
     "iopub.execute_input": "2020-10-15T08:26:44.525447Z",
     "iopub.status.busy": "2020-10-15T08:26:44.524670Z",
     "iopub.status.idle": "2020-10-15T08:26:44.563549Z",
     "shell.execute_reply": "2020-10-15T08:26:44.562735Z"
    },
    "papermill": {
     "duration": 0.064693,
     "end_time": "2020-10-15T08:26:44.563680",
     "exception": false,
     "start_time": "2020-10-15T08:26:44.498987",
     "status": "completed"
    },
    "tags": []
   },
   "outputs": [],
   "source": [
    "from sklearn.metrics import log_loss"
   ]
  },
  {
   "cell_type": "code",
   "execution_count": 12,
   "metadata": {
    "execution": {
     "iopub.execute_input": "2020-10-15T08:26:44.613623Z",
     "iopub.status.busy": "2020-10-15T08:26:44.612558Z",
     "iopub.status.idle": "2020-10-15T08:26:44.681301Z",
     "shell.execute_reply": "2020-10-15T08:26:44.680670Z"
    },
    "papermill": {
     "duration": 0.095998,
     "end_time": "2020-10-15T08:26:44.681451",
     "exception": false,
     "start_time": "2020-10-15T08:26:44.585453",
     "status": "completed"
    },
    "tags": []
   },
   "outputs": [],
   "source": [
    "learn = tabular_learner(dls, y_range=(0,1),  loss_func=BCELossFlat())#, metrics = logloss)"
   ]
  },
  {
   "cell_type": "code",
   "execution_count": 13,
   "metadata": {
    "execution": {
     "iopub.execute_input": "2020-10-15T08:26:44.730703Z",
     "iopub.status.busy": "2020-10-15T08:26:44.729943Z",
     "iopub.status.idle": "2020-10-15T08:27:24.233333Z",
     "shell.execute_reply": "2020-10-15T08:27:24.232478Z"
    },
    "papermill": {
     "duration": 39.530127,
     "end_time": "2020-10-15T08:27:24.233486",
     "exception": false,
     "start_time": "2020-10-15T08:26:44.703359",
     "status": "completed"
    },
    "tags": []
   },
   "outputs": [
    {
     "data": {
      "text/html": [],
      "text/plain": [
       "<IPython.core.display.HTML object>"
      ]
     },
     "metadata": {},
     "output_type": "display_data"
    },
    {
     "data": {
      "text/plain": [
       "SuggestedLRs(lr_min=0.33113112449646, lr_steep=0.005248074419796467)"
      ]
     },
     "execution_count": 13,
     "metadata": {},
     "output_type": "execute_result"
    },
    {
     "data": {
      "image/png": "[encoded data removed]",
      "text/plain": [
       "<Figure size 432x288 with 1 Axes>"
      ]
     },
     "metadata": {
      "needs_background": "light"
     },
     "output_type": "display_data"
    }
   ],
   "source": [
    "learn.lr_find()"
   ]
  },
  {
   "cell_type": "code",
   "execution_count": 14,
   "metadata": {
    "execution": {
     "iopub.execute_input": "2020-10-15T08:27:24.288966Z",
     "iopub.status.busy": "2020-10-15T08:27:24.288114Z",
     "iopub.status.idle": "2020-10-15T08:27:39.852359Z",
     "shell.execute_reply": "2020-10-15T08:27:39.851524Z"
    },
    "papermill": {
     "duration": 15.594073,
     "end_time": "2020-10-15T08:27:39.852496",
     "exception": false,
     "start_time": "2020-10-15T08:27:24.258423",
     "status": "completed"
    },
    "tags": []
   },
   "outputs": [
    {
     "data": {
      "text/html": [
       "<table border=\"1\" class=\"dataframe\">\n",
       "  <thead>\n",
       "    <tr style=\"text-align: left;\">\n",
       "      <th>epoch</th>\n",
       "      <th>train_loss</th>\n",
       "      <th>valid_loss</th>\n",
       "      <th>time</th>\n",
       "    </tr>\n",
       "  </thead>\n",
       "  <tbody>\n",
       "    <tr>\n",
       "      <td>0</td>\n",
       "      <td>0.688363</td>\n",
       "      <td>0.658865</td>\n",
       "      <td>00:01</td>\n",
       "    </tr>\n",
       "    <tr>\n",
       "      <td>1</td>\n",
       "      <td>0.602551</td>\n",
       "      <td>0.136406</td>\n",
       "      <td>00:01</td>\n",
       "    </tr>\n",
       "    <tr>\n",
       "      <td>2</td>\n",
       "      <td>0.417862</td>\n",
       "      <td>0.051659</td>\n",
       "      <td>00:01</td>\n",
       "    </tr>\n",
       "    <tr>\n",
       "      <td>3</td>\n",
       "      <td>0.310620</td>\n",
       "      <td>0.062844</td>\n",
       "      <td>00:01</td>\n",
       "    </tr>\n",
       "    <tr>\n",
       "      <td>4</td>\n",
       "      <td>0.248395</td>\n",
       "      <td>0.051950</td>\n",
       "      <td>00:01</td>\n",
       "    </tr>\n",
       "    <tr>\n",
       "      <td>5</td>\n",
       "      <td>0.206520</td>\n",
       "      <td>0.038652</td>\n",
       "      <td>00:01</td>\n",
       "    </tr>\n",
       "    <tr>\n",
       "      <td>6</td>\n",
       "      <td>0.175790</td>\n",
       "      <td>0.030900</td>\n",
       "      <td>00:01</td>\n",
       "    </tr>\n",
       "    <tr>\n",
       "      <td>7</td>\n",
       "      <td>0.152255</td>\n",
       "      <td>0.028163</td>\n",
       "      <td>00:01</td>\n",
       "    </tr>\n",
       "    <tr>\n",
       "      <td>8</td>\n",
       "      <td>0.133831</td>\n",
       "      <td>0.027376</td>\n",
       "      <td>00:01</td>\n",
       "    </tr>\n",
       "    <tr>\n",
       "      <td>9</td>\n",
       "      <td>0.119143</td>\n",
       "      <td>0.027425</td>\n",
       "      <td>00:01</td>\n",
       "    </tr>\n",
       "  </tbody>\n",
       "</table>"
      ],
      "text/plain": [
       "<IPython.core.display.HTML object>"
      ]
     },
     "metadata": {},
     "output_type": "display_data"
    }
   ],
   "source": [
    "lr = 1e-2\n",
    "learn.fit_one_cycle(10, lr_max=1e-2)"
   ]
  },
  {
   "cell_type": "code",
   "execution_count": 15,
   "metadata": {
    "execution": {
     "iopub.execute_input": "2020-10-15T08:27:39.908820Z",
     "iopub.status.busy": "2020-10-15T08:27:39.907990Z",
     "iopub.status.idle": "2020-10-15T08:27:39.949881Z",
     "shell.execute_reply": "2020-10-15T08:27:39.949076Z"
    },
    "papermill": {
     "duration": 0.072129,
     "end_time": "2020-10-15T08:27:39.950071",
     "exception": false,
     "start_time": "2020-10-15T08:27:39.877942",
     "status": "completed"
    },
    "tags": []
   },
   "outputs": [],
   "source": [
    "learn.unfreeze()"
   ]
  },
  {
   "cell_type": "code",
   "execution_count": 16,
   "metadata": {
    "execution": {
     "iopub.execute_input": "2020-10-15T08:27:40.008461Z",
     "iopub.status.busy": "2020-10-15T08:27:40.007624Z",
     "iopub.status.idle": "2020-10-15T08:28:08.699442Z",
     "shell.execute_reply": "2020-10-15T08:28:08.698598Z"
    },
    "papermill": {
     "duration": 28.722038,
     "end_time": "2020-10-15T08:28:08.699577",
     "exception": false,
     "start_time": "2020-10-15T08:27:39.977539",
     "status": "completed"
    },
    "tags": []
   },
   "outputs": [
    {
     "data": {
      "text/html": [],
      "text/plain": [
       "<IPython.core.display.HTML object>"
      ]
     },
     "metadata": {},
     "output_type": "display_data"
    },
    {
     "data": {
      "text/plain": [
       "SuggestedLRs(lr_min=0.002290867641568184, lr_steep=0.0030199517495930195)"
      ]
     },
     "execution_count": 16,
     "metadata": {},
     "output_type": "execute_result"
    },
    {
     "data": {
      "image/png": "[encoded data removed]",
      "text/plain": [
       "<Figure size 432x288 with 1 Axes>"
      ]
     },
     "metadata": {
      "needs_background": "light"
     },
     "output_type": "display_data"
    }
   ],
   "source": [
    "learn.lr_find()"
   ]
  },
  {
   "cell_type": "code",
   "execution_count": 17,
   "metadata": {
    "execution": {
     "iopub.execute_input": "2020-10-15T08:28:08.760113Z",
     "iopub.status.busy": "2020-10-15T08:28:08.759259Z",
     "iopub.status.idle": "2020-10-15T08:28:22.976072Z",
     "shell.execute_reply": "2020-10-15T08:28:22.974969Z"
    },
    "papermill": {
     "duration": 14.249143,
     "end_time": "2020-10-15T08:28:22.976286",
     "exception": false,
     "start_time": "2020-10-15T08:28:08.727143",
     "status": "completed"
    },
    "tags": []
   },
   "outputs": [
    {
     "data": {
      "text/html": [
       "<table border=\"1\" class=\"dataframe\">\n",
       "  <thead>\n",
       "    <tr style=\"text-align: left;\">\n",
       "      <th>epoch</th>\n",
       "      <th>train_loss</th>\n",
       "      <th>valid_loss</th>\n",
       "      <th>time</th>\n",
       "    </tr>\n",
       "  </thead>\n",
       "  <tbody>\n",
       "    <tr>\n",
       "      <td>0</td>\n",
       "      <td>0.028431</td>\n",
       "      <td>0.026137</td>\n",
       "      <td>00:01</td>\n",
       "    </tr>\n",
       "    <tr>\n",
       "      <td>1</td>\n",
       "      <td>0.026893</td>\n",
       "      <td>0.022109</td>\n",
       "      <td>00:01</td>\n",
       "    </tr>\n",
       "    <tr>\n",
       "      <td>2</td>\n",
       "      <td>0.024792</td>\n",
       "      <td>0.019570</td>\n",
       "      <td>00:01</td>\n",
       "    </tr>\n",
       "    <tr>\n",
       "      <td>3</td>\n",
       "      <td>0.023269</td>\n",
       "      <td>0.019050</td>\n",
       "      <td>00:01</td>\n",
       "    </tr>\n",
       "    <tr>\n",
       "      <td>4</td>\n",
       "      <td>0.022241</td>\n",
       "      <td>0.018707</td>\n",
       "      <td>00:01</td>\n",
       "    </tr>\n",
       "    <tr>\n",
       "      <td>5</td>\n",
       "      <td>0.021518</td>\n",
       "      <td>0.018385</td>\n",
       "      <td>00:01</td>\n",
       "    </tr>\n",
       "    <tr>\n",
       "      <td>6</td>\n",
       "      <td>0.020974</td>\n",
       "      <td>0.018202</td>\n",
       "      <td>00:01</td>\n",
       "    </tr>\n",
       "    <tr>\n",
       "      <td>7</td>\n",
       "      <td>0.020527</td>\n",
       "      <td>0.018109</td>\n",
       "      <td>00:01</td>\n",
       "    </tr>\n",
       "    <tr>\n",
       "      <td>8</td>\n",
       "      <td>0.020180</td>\n",
       "      <td>0.018074</td>\n",
       "      <td>00:01</td>\n",
       "    </tr>\n",
       "    <tr>\n",
       "      <td>9</td>\n",
       "      <td>0.019895</td>\n",
       "      <td>0.018066</td>\n",
       "      <td>00:01</td>\n",
       "    </tr>\n",
       "  </tbody>\n",
       "</table>"
      ],
      "text/plain": [
       "<IPython.core.display.HTML object>"
      ]
     },
     "metadata": {},
     "output_type": "display_data"
    }
   ],
   "source": [
    "learn.fit_one_cycle(10, lr_max=5e-3)"
   ]
  },
  {
   "cell_type": "markdown",
   "metadata": {
    "papermill": {
     "duration": 0.040086,
     "end_time": "2020-10-15T08:28:23.057419",
     "exception": false,
     "start_time": "2020-10-15T08:28:23.017333",
     "status": "completed"
    },
    "tags": []
   },
   "source": [
    "# prediction on test set"
   ]
  },
  {
   "cell_type": "code",
   "execution_count": 18,
   "metadata": {
    "execution": {
     "iopub.execute_input": "2020-10-15T08:28:23.136279Z",
     "iopub.status.busy": "2020-10-15T08:28:23.135114Z",
     "iopub.status.idle": "2020-10-15T08:28:23.317041Z",
     "shell.execute_reply": "2020-10-15T08:28:23.315986Z"
    },
    "papermill": {
     "duration": 0.221869,
     "end_time": "2020-10-15T08:28:23.317230",
     "exception": false,
     "start_time": "2020-10-15T08:28:23.095361",
     "status": "completed"
    },
    "tags": []
   },
   "outputs": [],
   "source": [
    "test_dl =  dls.test_dl(test_x)"
   ]
  },
  {
   "cell_type": "code",
   "execution_count": 19,
   "metadata": {
    "execution": {
     "iopub.execute_input": "2020-10-15T08:28:23.388842Z",
     "iopub.status.busy": "2020-10-15T08:28:23.387757Z",
     "iopub.status.idle": "2020-10-15T08:28:23.564148Z",
     "shell.execute_reply": "2020-10-15T08:28:23.563375Z"
    },
    "papermill": {
     "duration": 0.21028,
     "end_time": "2020-10-15T08:28:23.564291",
     "exception": false,
     "start_time": "2020-10-15T08:28:23.354011",
     "status": "completed"
    },
    "tags": []
   },
   "outputs": [
    {
     "data": {
      "text/html": [],
      "text/plain": [
       "<IPython.core.display.HTML object>"
      ]
     },
     "metadata": {},
     "output_type": "display_data"
    }
   ],
   "source": [
    "sub = learn.get_preds(dl=test_dl)"
   ]
  },
  {
   "cell_type": "code",
   "execution_count": 20,
   "metadata": {
    "execution": {
     "iopub.execute_input": "2020-10-15T08:28:23.634883Z",
     "iopub.status.busy": "2020-10-15T08:28:23.633771Z",
     "iopub.status.idle": "2020-10-15T08:28:24.039840Z",
     "shell.execute_reply": "2020-10-15T08:28:24.039002Z"
    },
    "papermill": {
     "duration": 0.441167,
     "end_time": "2020-10-15T08:28:24.039989",
     "exception": false,
     "start_time": "2020-10-15T08:28:23.598822",
     "status": "completed"
    },
    "tags": []
   },
   "outputs": [],
   "source": [
    "submission[[c for c in submission.columns if c != 'sig_id']] = sub[0]"
   ]
  },
  {
   "cell_type": "code",
   "execution_count": 21,
   "metadata": {
    "execution": {
     "iopub.execute_input": "2020-10-15T08:28:24.105482Z",
     "iopub.status.busy": "2020-10-15T08:28:24.104621Z",
     "iopub.status.idle": "2020-10-15T08:28:24.166290Z",
     "shell.execute_reply": "2020-10-15T08:28:24.165484Z"
    },
    "papermill": {
     "duration": 0.096421,
     "end_time": "2020-10-15T08:28:24.166426",
     "exception": false,
     "start_time": "2020-10-15T08:28:24.070005",
     "status": "completed"
    },
    "tags": []
   },
   "outputs": [
    {
     "data": {
      "text/html": [
       "<div>\n",
       "<style scoped>\n",
       "    .dataframe tbody tr th:only-of-type {\n",
       "        vertical-align: middle;\n",
       "    }\n",
       "\n",
       "    .dataframe tbody tr th {\n",
       "        vertical-align: top;\n",
       "    }\n",
       "\n",
       "    .dataframe thead th {\n",
       "        text-align: right;\n",
       "    }\n",
       "</style>\n",
       "<table border=\"1\" class=\"dataframe\">\n",
       "  <thead>\n",
       "    <tr style=\"text-align: right;\">\n",
       "      <th></th>\n",
       "      <th>sig_id</th>\n",
       "      <th>5-alpha_reductase_inhibitor</th>\n",
       "      <th>11-beta-hsd1_inhibitor</th>\n",
       "      <th>acat_inhibitor</th>\n",
       "      <th>acetylcholine_receptor_agonist</th>\n",
       "      <th>acetylcholine_receptor_antagonist</th>\n",
       "      <th>acetylcholinesterase_inhibitor</th>\n",
       "      <th>adenosine_receptor_agonist</th>\n",
       "      <th>adenosine_receptor_antagonist</th>\n",
       "      <th>adenylyl_cyclase_activator</th>\n",
       "      <th>...</th>\n",
       "      <th>tropomyosin_receptor_kinase_inhibitor</th>\n",
       "      <th>trpv_agonist</th>\n",
       "      <th>trpv_antagonist</th>\n",
       "      <th>tubulin_inhibitor</th>\n",
       "      <th>tyrosine_kinase_inhibitor</th>\n",
       "      <th>ubiquitin_specific_protease_inhibitor</th>\n",
       "      <th>vegfr_inhibitor</th>\n",
       "      <th>vitamin_b</th>\n",
       "      <th>vitamin_d_receptor_agonist</th>\n",
       "      <th>wnt_inhibitor</th>\n",
       "    </tr>\n",
       "  </thead>\n",
       "  <tbody>\n",
       "    <tr>\n",
       "      <th>0</th>\n",
       "      <td>id_0004d9e33</td>\n",
       "      <td>0.002085</td>\n",
       "      <td>0.001574</td>\n",
       "      <td>0.001750</td>\n",
       "      <td>0.012308</td>\n",
       "      <td>0.026206</td>\n",
       "      <td>0.005374</td>\n",
       "      <td>0.002955</td>\n",
       "      <td>0.006895</td>\n",
       "      <td>0.000974</td>\n",
       "      <td>...</td>\n",
       "      <td>0.000288</td>\n",
       "      <td>0.001184</td>\n",
       "      <td>0.004868</td>\n",
       "      <td>0.002738</td>\n",
       "      <td>0.003462</td>\n",
       "      <td>0.000285</td>\n",
       "      <td>0.005574</td>\n",
       "      <td>0.002243</td>\n",
       "      <td>0.002180</td>\n",
       "      <td>0.002735</td>\n",
       "    </tr>\n",
       "    <tr>\n",
       "      <th>1</th>\n",
       "      <td>id_001897cda</td>\n",
       "      <td>0.000098</td>\n",
       "      <td>0.000130</td>\n",
       "      <td>0.001097</td>\n",
       "      <td>0.008298</td>\n",
       "      <td>0.010547</td>\n",
       "      <td>0.003692</td>\n",
       "      <td>0.000919</td>\n",
       "      <td>0.003802</td>\n",
       "      <td>0.000569</td>\n",
       "      <td>...</td>\n",
       "      <td>0.000261</td>\n",
       "      <td>0.000816</td>\n",
       "      <td>0.001927</td>\n",
       "      <td>0.007688</td>\n",
       "      <td>0.001793</td>\n",
       "      <td>0.000032</td>\n",
       "      <td>0.020178</td>\n",
       "      <td>0.000266</td>\n",
       "      <td>0.002113</td>\n",
       "      <td>0.001612</td>\n",
       "    </tr>\n",
       "    <tr>\n",
       "      <th>2</th>\n",
       "      <td>id_002429b5b</td>\n",
       "      <td>0.000058</td>\n",
       "      <td>0.000025</td>\n",
       "      <td>0.000309</td>\n",
       "      <td>0.003635</td>\n",
       "      <td>0.006457</td>\n",
       "      <td>0.000740</td>\n",
       "      <td>0.001136</td>\n",
       "      <td>0.000595</td>\n",
       "      <td>0.000011</td>\n",
       "      <td>...</td>\n",
       "      <td>0.000018</td>\n",
       "      <td>0.000035</td>\n",
       "      <td>0.000235</td>\n",
       "      <td>0.000177</td>\n",
       "      <td>0.000325</td>\n",
       "      <td>0.000031</td>\n",
       "      <td>0.000242</td>\n",
       "      <td>0.000824</td>\n",
       "      <td>0.000448</td>\n",
       "      <td>0.000306</td>\n",
       "    </tr>\n",
       "    <tr>\n",
       "      <th>3</th>\n",
       "      <td>id_00276f245</td>\n",
       "      <td>0.000516</td>\n",
       "      <td>0.000397</td>\n",
       "      <td>0.003702</td>\n",
       "      <td>0.012093</td>\n",
       "      <td>0.022362</td>\n",
       "      <td>0.007451</td>\n",
       "      <td>0.006216</td>\n",
       "      <td>0.006849</td>\n",
       "      <td>0.000745</td>\n",
       "      <td>...</td>\n",
       "      <td>0.000730</td>\n",
       "      <td>0.001272</td>\n",
       "      <td>0.003773</td>\n",
       "      <td>0.006121</td>\n",
       "      <td>0.006714</td>\n",
       "      <td>0.000247</td>\n",
       "      <td>0.018759</td>\n",
       "      <td>0.001661</td>\n",
       "      <td>0.006848</td>\n",
       "      <td>0.003738</td>\n",
       "    </tr>\n",
       "    <tr>\n",
       "      <th>4</th>\n",
       "      <td>id_0027f1083</td>\n",
       "      <td>0.001372</td>\n",
       "      <td>0.000554</td>\n",
       "      <td>0.001457</td>\n",
       "      <td>0.011320</td>\n",
       "      <td>0.011630</td>\n",
       "      <td>0.003636</td>\n",
       "      <td>0.003054</td>\n",
       "      <td>0.004162</td>\n",
       "      <td>0.000151</td>\n",
       "      <td>...</td>\n",
       "      <td>0.000148</td>\n",
       "      <td>0.000606</td>\n",
       "      <td>0.001682</td>\n",
       "      <td>0.001104</td>\n",
       "      <td>0.001562</td>\n",
       "      <td>0.000402</td>\n",
       "      <td>0.000999</td>\n",
       "      <td>0.003881</td>\n",
       "      <td>0.001482</td>\n",
       "      <td>0.001744</td>\n",
       "    </tr>\n",
       "  </tbody>\n",
       "</table>\n",
       "<p>5 rows × 207 columns</p>\n",
       "</div>"
      ],
      "text/plain": [
       "         sig_id  5-alpha_reductase_inhibitor  11-beta-hsd1_inhibitor  \\\n",
       "0  id_0004d9e33                     0.002085                0.001574   \n",
       "1  id_001897cda                     0.000098                0.000130   \n",
       "2  id_002429b5b                     0.000058                0.000025   \n",
       "3  id_00276f245                     0.000516                0.000397   \n",
       "4  id_0027f1083                     0.001372                0.000554   \n",
       "\n",
       "   acat_inhibitor  acetylcholine_receptor_agonist  \\\n",
       "0        0.001750                        0.012308   \n",
       "1        0.001097                        0.008298   \n",
       "2        0.000309                        0.003635   \n",
       "3        0.003702                        0.012093   \n",
       "4        0.001457                        0.011320   \n",
       "\n",
       "   acetylcholine_receptor_antagonist  acetylcholinesterase_inhibitor  \\\n",
       "0                           0.026206                        0.005374   \n",
       "1                           0.010547                        0.003692   \n",
       "2                           0.006457                        0.000740   \n",
       "3                           0.022362                        0.007451   \n",
       "4                           0.011630                        0.003636   \n",
       "\n",
       "   adenosine_receptor_agonist  adenosine_receptor_antagonist  \\\n",
       "0                    0.002955                       0.006895   \n",
       "1                    0.000919                       0.003802   \n",
       "2                    0.001136                       0.000595   \n",
       "3                    0.006216                       0.006849   \n",
       "4                    0.003054                       0.004162   \n",
       "\n",
       "   adenylyl_cyclase_activator  ...  tropomyosin_receptor_kinase_inhibitor  \\\n",
       "0                    0.000974  ...                               0.000288   \n",
       "1                    0.000569  ...                               0.000261   \n",
       "2                    0.000011  ...                               0.000018   \n",
       "3                    0.000745  ...                               0.000730   \n",
       "4                    0.000151  ...                               0.000148   \n",
       "\n",
       "   trpv_agonist  trpv_antagonist  tubulin_inhibitor  \\\n",
       "0      0.001184         0.004868           0.002738   \n",
       "1      0.000816         0.001927           0.007688   \n",
       "2      0.000035         0.000235           0.000177   \n",
       "3      0.001272         0.003773           0.006121   \n",
       "4      0.000606         0.001682           0.001104   \n",
       "\n",
       "   tyrosine_kinase_inhibitor  ubiquitin_specific_protease_inhibitor  \\\n",
       "0                   0.003462                               0.000285   \n",
       "1                   0.001793                               0.000032   \n",
       "2                   0.000325                               0.000031   \n",
       "3                   0.006714                               0.000247   \n",
       "4                   0.001562                               0.000402   \n",
       "\n",
       "   vegfr_inhibitor  vitamin_b  vitamin_d_receptor_agonist  wnt_inhibitor  \n",
       "0         0.005574   0.002243                    0.002180       0.002735  \n",
       "1         0.020178   0.000266                    0.002113       0.001612  \n",
       "2         0.000242   0.000824                    0.000448       0.000306  \n",
       "3         0.018759   0.001661                    0.006848       0.003738  \n",
       "4         0.000999   0.003881                    0.001482       0.001744  \n",
       "\n",
       "[5 rows x 207 columns]"
      ]
     },
     "execution_count": 21,
     "metadata": {},
     "output_type": "execute_result"
    }
   ],
   "source": [
    "submission.head()"
   ]
  },
  {
   "cell_type": "code",
   "execution_count": 22,
   "metadata": {
    "execution": {
     "iopub.execute_input": "2020-10-15T08:28:24.233610Z",
     "iopub.status.busy": "2020-10-15T08:28:24.232513Z",
     "iopub.status.idle": "2020-10-15T08:28:26.860824Z",
     "shell.execute_reply": "2020-10-15T08:28:26.860162Z"
    },
    "papermill": {
     "duration": 2.663774,
     "end_time": "2020-10-15T08:28:26.860975",
     "exception": false,
     "start_time": "2020-10-15T08:28:24.197201",
     "status": "completed"
    },
    "tags": []
   },
   "outputs": [],
   "source": [
    "submission.to_csv('submission.csv', index=False)"
   ]
  },
  {
   "cell_type": "code",
   "execution_count": null,
   "metadata": {
    "papermill": {
     "duration": 0.029913,
     "end_time": "2020-10-15T08:28:26.921365",
     "exception": false,
     "start_time": "2020-10-15T08:28:26.891452",
     "status": "completed"
    },
    "tags": []
   },
   "outputs": [],
   "source": []
  }
 ],
 "metadata": {
  "kernelspec": {
   "display_name": "Python 3",
   "language": "python",
   "name": "python3"
  },
  "language_info": {
   "codemirror_mode": {
    "name": "ipython",
    "version": 3
   },
   "file_extension": ".py",
   "mimetype": "text/x-python",
   "name": "python",
   "nbconvert_exporter": "python",
   "pygments_lexer": "ipython3",
   "version": "3.7.6"
  },
  "papermill": {
   "duration": 184.631262,
   "end_time": "2020-10-15T08:28:27.060511",
   "environment_variables": {},
   "exception": null,
   "input_path": "__notebook__.ipynb",
   "output_path": "__notebook__.ipynb",
   "parameters": {},
   "start_time": "2020-10-15T08:25:22.429249",
   "version": "2.1.0"
  }
 },
 "nbformat": 4,
 "nbformat_minor": 4
}
